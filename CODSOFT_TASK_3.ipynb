{
  "nbformat": 4,
  "nbformat_minor": 0,
  "metadata": {
    "colab": {
      "provenance": [],
      "authorship_tag": "ABX9TyPT/aAFnD9RpbBsZ8zvdBPs",
      "include_colab_link": true
    },
    "kernelspec": {
      "name": "ir",
      "display_name": "R"
    },
    "language_info": {
      "name": "R"
    }
  },
  "cells": [
    {
      "cell_type": "markdown",
      "metadata": {
        "id": "view-in-github",
        "colab_type": "text"
      },
      "source": [
        "<a href=\"https://colab.research.google.com/github/Bhoomika165/CODSOFT/blob/main/CODSOFT_TASK_3.ipynb\" target=\"_parent\"><img src=\"https://colab.research.google.com/assets/colab-badge.svg\" alt=\"Open In Colab\"/></a>"
      ]
    },
    {
      "cell_type": "markdown",
      "source": [
        "# Task-3: IRIS FLOWER CLASSIFICATION (using R programming)\n",
        "Aim : To build a machine learning model that can classify iris flowers into respective species."
      ],
      "metadata": {
        "id": "TQtREebXhxAw"
      }
    },
    {
      "cell_type": "code",
      "execution_count": 1,
      "metadata": {
        "id": "vTOp7UkPhnUi"
      },
      "outputs": [],
      "source": [
        "# Load the required library\n",
        "library(class)"
      ]
    },
    {
      "cell_type": "code",
      "source": [
        "# Load the Iris dataset\n",
        "iris_data <- read.csv (\"IRIS.csv\")"
      ],
      "metadata": {
        "id": "6aikX05Pq2jx"
      },
      "execution_count": 2,
      "outputs": []
    },
    {
      "cell_type": "markdown",
      "source": [
        "Understanding the iris dataset"
      ],
      "metadata": {
        "id": "IVbf2WA3yHos"
      }
    },
    {
      "cell_type": "code",
      "source": [
        "head(iris_data)"
      ],
      "metadata": {
        "colab": {
          "base_uri": "https://localhost:8080/",
          "height": 286
        },
        "id": "f3-qY4d5rHHH",
        "outputId": "148540e8-6653-4aac-e0eb-4528aa1b62e1"
      },
      "execution_count": 3,
      "outputs": [
        {
          "output_type": "display_data",
          "data": {
            "text/html": [
              "<table class=\"dataframe\">\n",
              "<caption>A data.frame: 6 × 5</caption>\n",
              "<thead>\n",
              "\t<tr><th></th><th scope=col>sepal_length</th><th scope=col>sepal_width</th><th scope=col>petal_length</th><th scope=col>petal_width</th><th scope=col>species</th></tr>\n",
              "\t<tr><th></th><th scope=col>&lt;dbl&gt;</th><th scope=col>&lt;dbl&gt;</th><th scope=col>&lt;dbl&gt;</th><th scope=col>&lt;dbl&gt;</th><th scope=col>&lt;chr&gt;</th></tr>\n",
              "</thead>\n",
              "<tbody>\n",
              "\t<tr><th scope=row>1</th><td>5.1</td><td>3.5</td><td>1.4</td><td>0.2</td><td>Iris-setosa</td></tr>\n",
              "\t<tr><th scope=row>2</th><td>4.9</td><td>3.0</td><td>1.4</td><td>0.2</td><td>Iris-setosa</td></tr>\n",
              "\t<tr><th scope=row>3</th><td>4.7</td><td>3.2</td><td>1.3</td><td>0.2</td><td>Iris-setosa</td></tr>\n",
              "\t<tr><th scope=row>4</th><td>4.6</td><td>3.1</td><td>1.5</td><td>0.2</td><td>Iris-setosa</td></tr>\n",
              "\t<tr><th scope=row>5</th><td>5.0</td><td>3.6</td><td>1.4</td><td>0.2</td><td>Iris-setosa</td></tr>\n",
              "\t<tr><th scope=row>6</th><td>5.4</td><td>3.9</td><td>1.7</td><td>0.4</td><td>Iris-setosa</td></tr>\n",
              "</tbody>\n",
              "</table>\n"
            ],
            "text/markdown": "\nA data.frame: 6 × 5\n\n| <!--/--> | sepal_length &lt;dbl&gt; | sepal_width &lt;dbl&gt; | petal_length &lt;dbl&gt; | petal_width &lt;dbl&gt; | species &lt;chr&gt; |\n|---|---|---|---|---|---|\n| 1 | 5.1 | 3.5 | 1.4 | 0.2 | Iris-setosa |\n| 2 | 4.9 | 3.0 | 1.4 | 0.2 | Iris-setosa |\n| 3 | 4.7 | 3.2 | 1.3 | 0.2 | Iris-setosa |\n| 4 | 4.6 | 3.1 | 1.5 | 0.2 | Iris-setosa |\n| 5 | 5.0 | 3.6 | 1.4 | 0.2 | Iris-setosa |\n| 6 | 5.4 | 3.9 | 1.7 | 0.4 | Iris-setosa |\n\n",
            "text/latex": "A data.frame: 6 × 5\n\\begin{tabular}{r|lllll}\n  & sepal\\_length & sepal\\_width & petal\\_length & petal\\_width & species\\\\\n  & <dbl> & <dbl> & <dbl> & <dbl> & <chr>\\\\\n\\hline\n\t1 & 5.1 & 3.5 & 1.4 & 0.2 & Iris-setosa\\\\\n\t2 & 4.9 & 3.0 & 1.4 & 0.2 & Iris-setosa\\\\\n\t3 & 4.7 & 3.2 & 1.3 & 0.2 & Iris-setosa\\\\\n\t4 & 4.6 & 3.1 & 1.5 & 0.2 & Iris-setosa\\\\\n\t5 & 5.0 & 3.6 & 1.4 & 0.2 & Iris-setosa\\\\\n\t6 & 5.4 & 3.9 & 1.7 & 0.4 & Iris-setosa\\\\\n\\end{tabular}\n",
            "text/plain": [
              "  sepal_length sepal_width petal_length petal_width species    \n",
              "1 5.1          3.5         1.4          0.2         Iris-setosa\n",
              "2 4.9          3.0         1.4          0.2         Iris-setosa\n",
              "3 4.7          3.2         1.3          0.2         Iris-setosa\n",
              "4 4.6          3.1         1.5          0.2         Iris-setosa\n",
              "5 5.0          3.6         1.4          0.2         Iris-setosa\n",
              "6 5.4          3.9         1.7          0.4         Iris-setosa"
            ]
          },
          "metadata": {}
        }
      ]
    },
    {
      "cell_type": "code",
      "source": [
        "tail(iris_data)"
      ],
      "metadata": {
        "colab": {
          "base_uri": "https://localhost:8080/",
          "height": 286
        },
        "id": "1ZN1_YOTtAwx",
        "outputId": "4090eb4f-170e-4281-c448-f6248fe80fa4"
      },
      "execution_count": 4,
      "outputs": [
        {
          "output_type": "display_data",
          "data": {
            "text/html": [
              "<table class=\"dataframe\">\n",
              "<caption>A data.frame: 6 × 5</caption>\n",
              "<thead>\n",
              "\t<tr><th></th><th scope=col>sepal_length</th><th scope=col>sepal_width</th><th scope=col>petal_length</th><th scope=col>petal_width</th><th scope=col>species</th></tr>\n",
              "\t<tr><th></th><th scope=col>&lt;dbl&gt;</th><th scope=col>&lt;dbl&gt;</th><th scope=col>&lt;dbl&gt;</th><th scope=col>&lt;dbl&gt;</th><th scope=col>&lt;chr&gt;</th></tr>\n",
              "</thead>\n",
              "<tbody>\n",
              "\t<tr><th scope=row>145</th><td>6.7</td><td>3.3</td><td>5.7</td><td>2.5</td><td>Iris-virginica</td></tr>\n",
              "\t<tr><th scope=row>146</th><td>6.7</td><td>3.0</td><td>5.2</td><td>2.3</td><td>Iris-virginica</td></tr>\n",
              "\t<tr><th scope=row>147</th><td>6.3</td><td>2.5</td><td>5.0</td><td>1.9</td><td>Iris-virginica</td></tr>\n",
              "\t<tr><th scope=row>148</th><td>6.5</td><td>3.0</td><td>5.2</td><td>2.0</td><td>Iris-virginica</td></tr>\n",
              "\t<tr><th scope=row>149</th><td>6.2</td><td>3.4</td><td>5.4</td><td>2.3</td><td>Iris-virginica</td></tr>\n",
              "\t<tr><th scope=row>150</th><td>5.9</td><td>3.0</td><td>5.1</td><td>1.8</td><td>Iris-virginica</td></tr>\n",
              "</tbody>\n",
              "</table>\n"
            ],
            "text/markdown": "\nA data.frame: 6 × 5\n\n| <!--/--> | sepal_length &lt;dbl&gt; | sepal_width &lt;dbl&gt; | petal_length &lt;dbl&gt; | petal_width &lt;dbl&gt; | species &lt;chr&gt; |\n|---|---|---|---|---|---|\n| 145 | 6.7 | 3.3 | 5.7 | 2.5 | Iris-virginica |\n| 146 | 6.7 | 3.0 | 5.2 | 2.3 | Iris-virginica |\n| 147 | 6.3 | 2.5 | 5.0 | 1.9 | Iris-virginica |\n| 148 | 6.5 | 3.0 | 5.2 | 2.0 | Iris-virginica |\n| 149 | 6.2 | 3.4 | 5.4 | 2.3 | Iris-virginica |\n| 150 | 5.9 | 3.0 | 5.1 | 1.8 | Iris-virginica |\n\n",
            "text/latex": "A data.frame: 6 × 5\n\\begin{tabular}{r|lllll}\n  & sepal\\_length & sepal\\_width & petal\\_length & petal\\_width & species\\\\\n  & <dbl> & <dbl> & <dbl> & <dbl> & <chr>\\\\\n\\hline\n\t145 & 6.7 & 3.3 & 5.7 & 2.5 & Iris-virginica\\\\\n\t146 & 6.7 & 3.0 & 5.2 & 2.3 & Iris-virginica\\\\\n\t147 & 6.3 & 2.5 & 5.0 & 1.9 & Iris-virginica\\\\\n\t148 & 6.5 & 3.0 & 5.2 & 2.0 & Iris-virginica\\\\\n\t149 & 6.2 & 3.4 & 5.4 & 2.3 & Iris-virginica\\\\\n\t150 & 5.9 & 3.0 & 5.1 & 1.8 & Iris-virginica\\\\\n\\end{tabular}\n",
            "text/plain": [
              "    sepal_length sepal_width petal_length petal_width species       \n",
              "145 6.7          3.3         5.7          2.5         Iris-virginica\n",
              "146 6.7          3.0         5.2          2.3         Iris-virginica\n",
              "147 6.3          2.5         5.0          1.9         Iris-virginica\n",
              "148 6.5          3.0         5.2          2.0         Iris-virginica\n",
              "149 6.2          3.4         5.4          2.3         Iris-virginica\n",
              "150 5.9          3.0         5.1          1.8         Iris-virginica"
            ]
          },
          "metadata": {}
        }
      ]
    },
    {
      "cell_type": "code",
      "source": [
        "class(iris_data)"
      ],
      "metadata": {
        "colab": {
          "base_uri": "https://localhost:8080/",
          "height": 34
        },
        "id": "_wJf1UyPtDXX",
        "outputId": "9c8ee71f-5369-4d12-a6f2-f177316a46a6"
      },
      "execution_count": 5,
      "outputs": [
        {
          "output_type": "display_data",
          "data": {
            "text/html": [
              "'data.frame'"
            ],
            "text/markdown": "'data.frame'",
            "text/latex": "'data.frame'",
            "text/plain": [
              "[1] \"data.frame\""
            ]
          },
          "metadata": {}
        }
      ]
    },
    {
      "cell_type": "code",
      "source": [
        "summary(iris_data)"
      ],
      "metadata": {
        "colab": {
          "base_uri": "https://localhost:8080/",
          "height": 260
        },
        "id": "ojSUMfS3yEGb",
        "outputId": "05cb6806-08ba-4774-916f-30fc14a19077"
      },
      "execution_count": 6,
      "outputs": [
        {
          "output_type": "display_data",
          "data": {
            "text/plain": [
              "  sepal_length    sepal_width     petal_length    petal_width   \n",
              " Min.   :4.300   Min.   :2.000   Min.   :1.000   Min.   :0.100  \n",
              " 1st Qu.:5.100   1st Qu.:2.800   1st Qu.:1.600   1st Qu.:0.300  \n",
              " Median :5.800   Median :3.000   Median :4.350   Median :1.300  \n",
              " Mean   :5.843   Mean   :3.054   Mean   :3.759   Mean   :1.199  \n",
              " 3rd Qu.:6.400   3rd Qu.:3.300   3rd Qu.:5.100   3rd Qu.:1.800  \n",
              " Max.   :7.900   Max.   :4.400   Max.   :6.900   Max.   :2.500  \n",
              "   species         \n",
              " Length:150        \n",
              " Class :character  \n",
              " Mode  :character  \n",
              "                   \n",
              "                   \n",
              "                   "
            ]
          },
          "metadata": {}
        }
      ]
    },
    {
      "cell_type": "code",
      "source": [
        "dim(iris_data)"
      ],
      "metadata": {
        "colab": {
          "base_uri": "https://localhost:8080/",
          "height": 34
        },
        "id": "RGwWX5mpzuOt",
        "outputId": "014efb87-5273-4a24-8586-d8af65685e2e"
      },
      "execution_count": 7,
      "outputs": [
        {
          "output_type": "display_data",
          "data": {
            "text/html": [
              "<style>\n",
              ".list-inline {list-style: none; margin:0; padding: 0}\n",
              ".list-inline>li {display: inline-block}\n",
              ".list-inline>li:not(:last-child)::after {content: \"\\00b7\"; padding: 0 .5ex}\n",
              "</style>\n",
              "<ol class=list-inline><li>150</li><li>5</li></ol>\n"
            ],
            "text/markdown": "1. 150\n2. 5\n\n\n",
            "text/latex": "\\begin{enumerate*}\n\\item 150\n\\item 5\n\\end{enumerate*}\n",
            "text/plain": [
              "[1] 150   5"
            ]
          },
          "metadata": {}
        }
      ]
    },
    {
      "cell_type": "code",
      "source": [
        "str(iris_data)"
      ],
      "metadata": {
        "colab": {
          "base_uri": "https://localhost:8080/"
        },
        "id": "3Ey3LA4Vz1d1",
        "outputId": "4ca2d70c-7c88-4fda-fba3-2d10c72c3808"
      },
      "execution_count": 8,
      "outputs": [
        {
          "output_type": "stream",
          "name": "stdout",
          "text": [
            "'data.frame':\t150 obs. of  5 variables:\n",
            " $ sepal_length: num  5.1 4.9 4.7 4.6 5 5.4 4.6 5 4.4 4.9 ...\n",
            " $ sepal_width : num  3.5 3 3.2 3.1 3.6 3.9 3.4 3.4 2.9 3.1 ...\n",
            " $ petal_length: num  1.4 1.4 1.3 1.5 1.4 1.7 1.4 1.5 1.4 1.5 ...\n",
            " $ petal_width : num  0.2 0.2 0.2 0.2 0.2 0.4 0.3 0.2 0.2 0.1 ...\n",
            " $ species     : chr  \"Iris-setosa\" \"Iris-setosa\" \"Iris-setosa\" \"Iris-setosa\" ...\n"
          ]
        }
      ]
    },
    {
      "cell_type": "code",
      "source": [
        "(iris_data$species)"
      ],
      "metadata": {
        "colab": {
          "base_uri": "https://localhost:8080/",
          "height": 191
        },
        "id": "_JBP6HFK0TSZ",
        "outputId": "122d22d8-37c2-464e-acde-9d46161ba335"
      },
      "execution_count": 9,
      "outputs": [
        {
          "output_type": "display_data",
          "data": {
            "text/html": [
              "<style>\n",
              ".list-inline {list-style: none; margin:0; padding: 0}\n",
              ".list-inline>li {display: inline-block}\n",
              ".list-inline>li:not(:last-child)::after {content: \"\\00b7\"; padding: 0 .5ex}\n",
              "</style>\n",
              "<ol class=list-inline><li>'Iris-setosa'</li><li>'Iris-setosa'</li><li>'Iris-setosa'</li><li>'Iris-setosa'</li><li>'Iris-setosa'</li><li>'Iris-setosa'</li><li>'Iris-setosa'</li><li>'Iris-setosa'</li><li>'Iris-setosa'</li><li>'Iris-setosa'</li><li>'Iris-setosa'</li><li>'Iris-setosa'</li><li>'Iris-setosa'</li><li>'Iris-setosa'</li><li>'Iris-setosa'</li><li>'Iris-setosa'</li><li>'Iris-setosa'</li><li>'Iris-setosa'</li><li>'Iris-setosa'</li><li>'Iris-setosa'</li><li>'Iris-setosa'</li><li>'Iris-setosa'</li><li>'Iris-setosa'</li><li>'Iris-setosa'</li><li>'Iris-setosa'</li><li>'Iris-setosa'</li><li>'Iris-setosa'</li><li>'Iris-setosa'</li><li>'Iris-setosa'</li><li>'Iris-setosa'</li><li>'Iris-setosa'</li><li>'Iris-setosa'</li><li>'Iris-setosa'</li><li>'Iris-setosa'</li><li>'Iris-setosa'</li><li>'Iris-setosa'</li><li>'Iris-setosa'</li><li>'Iris-setosa'</li><li>'Iris-setosa'</li><li>'Iris-setosa'</li><li>'Iris-setosa'</li><li>'Iris-setosa'</li><li>'Iris-setosa'</li><li>'Iris-setosa'</li><li>'Iris-setosa'</li><li>'Iris-setosa'</li><li>'Iris-setosa'</li><li>'Iris-setosa'</li><li>'Iris-setosa'</li><li>'Iris-setosa'</li><li>'Iris-versicolor'</li><li>'Iris-versicolor'</li><li>'Iris-versicolor'</li><li>'Iris-versicolor'</li><li>'Iris-versicolor'</li><li>'Iris-versicolor'</li><li>'Iris-versicolor'</li><li>'Iris-versicolor'</li><li>'Iris-versicolor'</li><li>'Iris-versicolor'</li><li>'Iris-versicolor'</li><li>'Iris-versicolor'</li><li>'Iris-versicolor'</li><li>'Iris-versicolor'</li><li>'Iris-versicolor'</li><li>'Iris-versicolor'</li><li>'Iris-versicolor'</li><li>'Iris-versicolor'</li><li>'Iris-versicolor'</li><li>'Iris-versicolor'</li><li>'Iris-versicolor'</li><li>'Iris-versicolor'</li><li>'Iris-versicolor'</li><li>'Iris-versicolor'</li><li>'Iris-versicolor'</li><li>'Iris-versicolor'</li><li>'Iris-versicolor'</li><li>'Iris-versicolor'</li><li>'Iris-versicolor'</li><li>'Iris-versicolor'</li><li>'Iris-versicolor'</li><li>'Iris-versicolor'</li><li>'Iris-versicolor'</li><li>'Iris-versicolor'</li><li>'Iris-versicolor'</li><li>'Iris-versicolor'</li><li>'Iris-versicolor'</li><li>'Iris-versicolor'</li><li>'Iris-versicolor'</li><li>'Iris-versicolor'</li><li>'Iris-versicolor'</li><li>'Iris-versicolor'</li><li>'Iris-versicolor'</li><li>'Iris-versicolor'</li><li>'Iris-versicolor'</li><li>'Iris-versicolor'</li><li>'Iris-versicolor'</li><li>'Iris-versicolor'</li><li>'Iris-versicolor'</li><li>'Iris-versicolor'</li><li>'Iris-virginica'</li><li>'Iris-virginica'</li><li>'Iris-virginica'</li><li>'Iris-virginica'</li><li>'Iris-virginica'</li><li>'Iris-virginica'</li><li>'Iris-virginica'</li><li>'Iris-virginica'</li><li>'Iris-virginica'</li><li>'Iris-virginica'</li><li>'Iris-virginica'</li><li>'Iris-virginica'</li><li>'Iris-virginica'</li><li>'Iris-virginica'</li><li>'Iris-virginica'</li><li>'Iris-virginica'</li><li>'Iris-virginica'</li><li>'Iris-virginica'</li><li>'Iris-virginica'</li><li>'Iris-virginica'</li><li>'Iris-virginica'</li><li>'Iris-virginica'</li><li>'Iris-virginica'</li><li>'Iris-virginica'</li><li>'Iris-virginica'</li><li>'Iris-virginica'</li><li>'Iris-virginica'</li><li>'Iris-virginica'</li><li>'Iris-virginica'</li><li>'Iris-virginica'</li><li>'Iris-virginica'</li><li>'Iris-virginica'</li><li>'Iris-virginica'</li><li>'Iris-virginica'</li><li>'Iris-virginica'</li><li>'Iris-virginica'</li><li>'Iris-virginica'</li><li>'Iris-virginica'</li><li>'Iris-virginica'</li><li>'Iris-virginica'</li><li>'Iris-virginica'</li><li>'Iris-virginica'</li><li>'Iris-virginica'</li><li>'Iris-virginica'</li><li>'Iris-virginica'</li><li>'Iris-virginica'</li><li>'Iris-virginica'</li><li>'Iris-virginica'</li><li>'Iris-virginica'</li><li>'Iris-virginica'</li></ol>\n"
            ],
            "text/markdown": "1. 'Iris-setosa'\n2. 'Iris-setosa'\n3. 'Iris-setosa'\n4. 'Iris-setosa'\n5. 'Iris-setosa'\n6. 'Iris-setosa'\n7. 'Iris-setosa'\n8. 'Iris-setosa'\n9. 'Iris-setosa'\n10. 'Iris-setosa'\n11. 'Iris-setosa'\n12. 'Iris-setosa'\n13. 'Iris-setosa'\n14. 'Iris-setosa'\n15. 'Iris-setosa'\n16. 'Iris-setosa'\n17. 'Iris-setosa'\n18. 'Iris-setosa'\n19. 'Iris-setosa'\n20. 'Iris-setosa'\n21. 'Iris-setosa'\n22. 'Iris-setosa'\n23. 'Iris-setosa'\n24. 'Iris-setosa'\n25. 'Iris-setosa'\n26. 'Iris-setosa'\n27. 'Iris-setosa'\n28. 'Iris-setosa'\n29. 'Iris-setosa'\n30. 'Iris-setosa'\n31. 'Iris-setosa'\n32. 'Iris-setosa'\n33. 'Iris-setosa'\n34. 'Iris-setosa'\n35. 'Iris-setosa'\n36. 'Iris-setosa'\n37. 'Iris-setosa'\n38. 'Iris-setosa'\n39. 'Iris-setosa'\n40. 'Iris-setosa'\n41. 'Iris-setosa'\n42. 'Iris-setosa'\n43. 'Iris-setosa'\n44. 'Iris-setosa'\n45. 'Iris-setosa'\n46. 'Iris-setosa'\n47. 'Iris-setosa'\n48. 'Iris-setosa'\n49. 'Iris-setosa'\n50. 'Iris-setosa'\n51. 'Iris-versicolor'\n52. 'Iris-versicolor'\n53. 'Iris-versicolor'\n54. 'Iris-versicolor'\n55. 'Iris-versicolor'\n56. 'Iris-versicolor'\n57. 'Iris-versicolor'\n58. 'Iris-versicolor'\n59. 'Iris-versicolor'\n60. 'Iris-versicolor'\n61. 'Iris-versicolor'\n62. 'Iris-versicolor'\n63. 'Iris-versicolor'\n64. 'Iris-versicolor'\n65. 'Iris-versicolor'\n66. 'Iris-versicolor'\n67. 'Iris-versicolor'\n68. 'Iris-versicolor'\n69. 'Iris-versicolor'\n70. 'Iris-versicolor'\n71. 'Iris-versicolor'\n72. 'Iris-versicolor'\n73. 'Iris-versicolor'\n74. 'Iris-versicolor'\n75. 'Iris-versicolor'\n76. 'Iris-versicolor'\n77. 'Iris-versicolor'\n78. 'Iris-versicolor'\n79. 'Iris-versicolor'\n80. 'Iris-versicolor'\n81. 'Iris-versicolor'\n82. 'Iris-versicolor'\n83. 'Iris-versicolor'\n84. 'Iris-versicolor'\n85. 'Iris-versicolor'\n86. 'Iris-versicolor'\n87. 'Iris-versicolor'\n88. 'Iris-versicolor'\n89. 'Iris-versicolor'\n90. 'Iris-versicolor'\n91. 'Iris-versicolor'\n92. 'Iris-versicolor'\n93. 'Iris-versicolor'\n94. 'Iris-versicolor'\n95. 'Iris-versicolor'\n96. 'Iris-versicolor'\n97. 'Iris-versicolor'\n98. 'Iris-versicolor'\n99. 'Iris-versicolor'\n100. 'Iris-versicolor'\n101. 'Iris-virginica'\n102. 'Iris-virginica'\n103. 'Iris-virginica'\n104. 'Iris-virginica'\n105. 'Iris-virginica'\n106. 'Iris-virginica'\n107. 'Iris-virginica'\n108. 'Iris-virginica'\n109. 'Iris-virginica'\n110. 'Iris-virginica'\n111. 'Iris-virginica'\n112. 'Iris-virginica'\n113. 'Iris-virginica'\n114. 'Iris-virginica'\n115. 'Iris-virginica'\n116. 'Iris-virginica'\n117. 'Iris-virginica'\n118. 'Iris-virginica'\n119. 'Iris-virginica'\n120. 'Iris-virginica'\n121. 'Iris-virginica'\n122. 'Iris-virginica'\n123. 'Iris-virginica'\n124. 'Iris-virginica'\n125. 'Iris-virginica'\n126. 'Iris-virginica'\n127. 'Iris-virginica'\n128. 'Iris-virginica'\n129. 'Iris-virginica'\n130. 'Iris-virginica'\n131. 'Iris-virginica'\n132. 'Iris-virginica'\n133. 'Iris-virginica'\n134. 'Iris-virginica'\n135. 'Iris-virginica'\n136. 'Iris-virginica'\n137. 'Iris-virginica'\n138. 'Iris-virginica'\n139. 'Iris-virginica'\n140. 'Iris-virginica'\n141. 'Iris-virginica'\n142. 'Iris-virginica'\n143. 'Iris-virginica'\n144. 'Iris-virginica'\n145. 'Iris-virginica'\n146. 'Iris-virginica'\n147. 'Iris-virginica'\n148. 'Iris-virginica'\n149. 'Iris-virginica'\n150. 'Iris-virginica'\n\n\n",
            "text/latex": "\\begin{enumerate*}\n\\item 'Iris-setosa'\n\\item 'Iris-setosa'\n\\item 'Iris-setosa'\n\\item 'Iris-setosa'\n\\item 'Iris-setosa'\n\\item 'Iris-setosa'\n\\item 'Iris-setosa'\n\\item 'Iris-setosa'\n\\item 'Iris-setosa'\n\\item 'Iris-setosa'\n\\item 'Iris-setosa'\n\\item 'Iris-setosa'\n\\item 'Iris-setosa'\n\\item 'Iris-setosa'\n\\item 'Iris-setosa'\n\\item 'Iris-setosa'\n\\item 'Iris-setosa'\n\\item 'Iris-setosa'\n\\item 'Iris-setosa'\n\\item 'Iris-setosa'\n\\item 'Iris-setosa'\n\\item 'Iris-setosa'\n\\item 'Iris-setosa'\n\\item 'Iris-setosa'\n\\item 'Iris-setosa'\n\\item 'Iris-setosa'\n\\item 'Iris-setosa'\n\\item 'Iris-setosa'\n\\item 'Iris-setosa'\n\\item 'Iris-setosa'\n\\item 'Iris-setosa'\n\\item 'Iris-setosa'\n\\item 'Iris-setosa'\n\\item 'Iris-setosa'\n\\item 'Iris-setosa'\n\\item 'Iris-setosa'\n\\item 'Iris-setosa'\n\\item 'Iris-setosa'\n\\item 'Iris-setosa'\n\\item 'Iris-setosa'\n\\item 'Iris-setosa'\n\\item 'Iris-setosa'\n\\item 'Iris-setosa'\n\\item 'Iris-setosa'\n\\item 'Iris-setosa'\n\\item 'Iris-setosa'\n\\item 'Iris-setosa'\n\\item 'Iris-setosa'\n\\item 'Iris-setosa'\n\\item 'Iris-setosa'\n\\item 'Iris-versicolor'\n\\item 'Iris-versicolor'\n\\item 'Iris-versicolor'\n\\item 'Iris-versicolor'\n\\item 'Iris-versicolor'\n\\item 'Iris-versicolor'\n\\item 'Iris-versicolor'\n\\item 'Iris-versicolor'\n\\item 'Iris-versicolor'\n\\item 'Iris-versicolor'\n\\item 'Iris-versicolor'\n\\item 'Iris-versicolor'\n\\item 'Iris-versicolor'\n\\item 'Iris-versicolor'\n\\item 'Iris-versicolor'\n\\item 'Iris-versicolor'\n\\item 'Iris-versicolor'\n\\item 'Iris-versicolor'\n\\item 'Iris-versicolor'\n\\item 'Iris-versicolor'\n\\item 'Iris-versicolor'\n\\item 'Iris-versicolor'\n\\item 'Iris-versicolor'\n\\item 'Iris-versicolor'\n\\item 'Iris-versicolor'\n\\item 'Iris-versicolor'\n\\item 'Iris-versicolor'\n\\item 'Iris-versicolor'\n\\item 'Iris-versicolor'\n\\item 'Iris-versicolor'\n\\item 'Iris-versicolor'\n\\item 'Iris-versicolor'\n\\item 'Iris-versicolor'\n\\item 'Iris-versicolor'\n\\item 'Iris-versicolor'\n\\item 'Iris-versicolor'\n\\item 'Iris-versicolor'\n\\item 'Iris-versicolor'\n\\item 'Iris-versicolor'\n\\item 'Iris-versicolor'\n\\item 'Iris-versicolor'\n\\item 'Iris-versicolor'\n\\item 'Iris-versicolor'\n\\item 'Iris-versicolor'\n\\item 'Iris-versicolor'\n\\item 'Iris-versicolor'\n\\item 'Iris-versicolor'\n\\item 'Iris-versicolor'\n\\item 'Iris-versicolor'\n\\item 'Iris-versicolor'\n\\item 'Iris-virginica'\n\\item 'Iris-virginica'\n\\item 'Iris-virginica'\n\\item 'Iris-virginica'\n\\item 'Iris-virginica'\n\\item 'Iris-virginica'\n\\item 'Iris-virginica'\n\\item 'Iris-virginica'\n\\item 'Iris-virginica'\n\\item 'Iris-virginica'\n\\item 'Iris-virginica'\n\\item 'Iris-virginica'\n\\item 'Iris-virginica'\n\\item 'Iris-virginica'\n\\item 'Iris-virginica'\n\\item 'Iris-virginica'\n\\item 'Iris-virginica'\n\\item 'Iris-virginica'\n\\item 'Iris-virginica'\n\\item 'Iris-virginica'\n\\item 'Iris-virginica'\n\\item 'Iris-virginica'\n\\item 'Iris-virginica'\n\\item 'Iris-virginica'\n\\item 'Iris-virginica'\n\\item 'Iris-virginica'\n\\item 'Iris-virginica'\n\\item 'Iris-virginica'\n\\item 'Iris-virginica'\n\\item 'Iris-virginica'\n\\item 'Iris-virginica'\n\\item 'Iris-virginica'\n\\item 'Iris-virginica'\n\\item 'Iris-virginica'\n\\item 'Iris-virginica'\n\\item 'Iris-virginica'\n\\item 'Iris-virginica'\n\\item 'Iris-virginica'\n\\item 'Iris-virginica'\n\\item 'Iris-virginica'\n\\item 'Iris-virginica'\n\\item 'Iris-virginica'\n\\item 'Iris-virginica'\n\\item 'Iris-virginica'\n\\item 'Iris-virginica'\n\\item 'Iris-virginica'\n\\item 'Iris-virginica'\n\\item 'Iris-virginica'\n\\item 'Iris-virginica'\n\\item 'Iris-virginica'\n\\end{enumerate*}\n",
            "text/plain": [
              "  [1] \"Iris-setosa\"     \"Iris-setosa\"     \"Iris-setosa\"     \"Iris-setosa\"    \n",
              "  [5] \"Iris-setosa\"     \"Iris-setosa\"     \"Iris-setosa\"     \"Iris-setosa\"    \n",
              "  [9] \"Iris-setosa\"     \"Iris-setosa\"     \"Iris-setosa\"     \"Iris-setosa\"    \n",
              " [13] \"Iris-setosa\"     \"Iris-setosa\"     \"Iris-setosa\"     \"Iris-setosa\"    \n",
              " [17] \"Iris-setosa\"     \"Iris-setosa\"     \"Iris-setosa\"     \"Iris-setosa\"    \n",
              " [21] \"Iris-setosa\"     \"Iris-setosa\"     \"Iris-setosa\"     \"Iris-setosa\"    \n",
              " [25] \"Iris-setosa\"     \"Iris-setosa\"     \"Iris-setosa\"     \"Iris-setosa\"    \n",
              " [29] \"Iris-setosa\"     \"Iris-setosa\"     \"Iris-setosa\"     \"Iris-setosa\"    \n",
              " [33] \"Iris-setosa\"     \"Iris-setosa\"     \"Iris-setosa\"     \"Iris-setosa\"    \n",
              " [37] \"Iris-setosa\"     \"Iris-setosa\"     \"Iris-setosa\"     \"Iris-setosa\"    \n",
              " [41] \"Iris-setosa\"     \"Iris-setosa\"     \"Iris-setosa\"     \"Iris-setosa\"    \n",
              " [45] \"Iris-setosa\"     \"Iris-setosa\"     \"Iris-setosa\"     \"Iris-setosa\"    \n",
              " [49] \"Iris-setosa\"     \"Iris-setosa\"     \"Iris-versicolor\" \"Iris-versicolor\"\n",
              " [53] \"Iris-versicolor\" \"Iris-versicolor\" \"Iris-versicolor\" \"Iris-versicolor\"\n",
              " [57] \"Iris-versicolor\" \"Iris-versicolor\" \"Iris-versicolor\" \"Iris-versicolor\"\n",
              " [61] \"Iris-versicolor\" \"Iris-versicolor\" \"Iris-versicolor\" \"Iris-versicolor\"\n",
              " [65] \"Iris-versicolor\" \"Iris-versicolor\" \"Iris-versicolor\" \"Iris-versicolor\"\n",
              " [69] \"Iris-versicolor\" \"Iris-versicolor\" \"Iris-versicolor\" \"Iris-versicolor\"\n",
              " [73] \"Iris-versicolor\" \"Iris-versicolor\" \"Iris-versicolor\" \"Iris-versicolor\"\n",
              " [77] \"Iris-versicolor\" \"Iris-versicolor\" \"Iris-versicolor\" \"Iris-versicolor\"\n",
              " [81] \"Iris-versicolor\" \"Iris-versicolor\" \"Iris-versicolor\" \"Iris-versicolor\"\n",
              " [85] \"Iris-versicolor\" \"Iris-versicolor\" \"Iris-versicolor\" \"Iris-versicolor\"\n",
              " [89] \"Iris-versicolor\" \"Iris-versicolor\" \"Iris-versicolor\" \"Iris-versicolor\"\n",
              " [93] \"Iris-versicolor\" \"Iris-versicolor\" \"Iris-versicolor\" \"Iris-versicolor\"\n",
              " [97] \"Iris-versicolor\" \"Iris-versicolor\" \"Iris-versicolor\" \"Iris-versicolor\"\n",
              "[101] \"Iris-virginica\"  \"Iris-virginica\"  \"Iris-virginica\"  \"Iris-virginica\" \n",
              "[105] \"Iris-virginica\"  \"Iris-virginica\"  \"Iris-virginica\"  \"Iris-virginica\" \n",
              "[109] \"Iris-virginica\"  \"Iris-virginica\"  \"Iris-virginica\"  \"Iris-virginica\" \n",
              "[113] \"Iris-virginica\"  \"Iris-virginica\"  \"Iris-virginica\"  \"Iris-virginica\" \n",
              "[117] \"Iris-virginica\"  \"Iris-virginica\"  \"Iris-virginica\"  \"Iris-virginica\" \n",
              "[121] \"Iris-virginica\"  \"Iris-virginica\"  \"Iris-virginica\"  \"Iris-virginica\" \n",
              "[125] \"Iris-virginica\"  \"Iris-virginica\"  \"Iris-virginica\"  \"Iris-virginica\" \n",
              "[129] \"Iris-virginica\"  \"Iris-virginica\"  \"Iris-virginica\"  \"Iris-virginica\" \n",
              "[133] \"Iris-virginica\"  \"Iris-virginica\"  \"Iris-virginica\"  \"Iris-virginica\" \n",
              "[137] \"Iris-virginica\"  \"Iris-virginica\"  \"Iris-virginica\"  \"Iris-virginica\" \n",
              "[141] \"Iris-virginica\"  \"Iris-virginica\"  \"Iris-virginica\"  \"Iris-virginica\" \n",
              "[145] \"Iris-virginica\"  \"Iris-virginica\"  \"Iris-virginica\"  \"Iris-virginica\" \n",
              "[149] \"Iris-virginica\"  \"Iris-virginica\" "
            ]
          },
          "metadata": {}
        }
      ]
    },
    {
      "cell_type": "code",
      "source": [
        "subset(iris_data,iris_data$petal_width == 1.0)"
      ],
      "metadata": {
        "colab": {
          "base_uri": "https://localhost:8080/",
          "height": 317
        },
        "id": "zuWTVUCv0YI7",
        "outputId": "746fcea5-6109-4f3b-bd8c-aab7b978ed95"
      },
      "execution_count": 10,
      "outputs": [
        {
          "output_type": "display_data",
          "data": {
            "text/html": [
              "<table class=\"dataframe\">\n",
              "<caption>A data.frame: 7 × 5</caption>\n",
              "<thead>\n",
              "\t<tr><th></th><th scope=col>sepal_length</th><th scope=col>sepal_width</th><th scope=col>petal_length</th><th scope=col>petal_width</th><th scope=col>species</th></tr>\n",
              "\t<tr><th></th><th scope=col>&lt;dbl&gt;</th><th scope=col>&lt;dbl&gt;</th><th scope=col>&lt;dbl&gt;</th><th scope=col>&lt;dbl&gt;</th><th scope=col>&lt;chr&gt;</th></tr>\n",
              "</thead>\n",
              "<tbody>\n",
              "\t<tr><th scope=row>58</th><td>4.9</td><td>2.4</td><td>3.3</td><td>1</td><td>Iris-versicolor</td></tr>\n",
              "\t<tr><th scope=row>61</th><td>5.0</td><td>2.0</td><td>3.5</td><td>1</td><td>Iris-versicolor</td></tr>\n",
              "\t<tr><th scope=row>63</th><td>6.0</td><td>2.2</td><td>4.0</td><td>1</td><td>Iris-versicolor</td></tr>\n",
              "\t<tr><th scope=row>68</th><td>5.8</td><td>2.7</td><td>4.1</td><td>1</td><td>Iris-versicolor</td></tr>\n",
              "\t<tr><th scope=row>80</th><td>5.7</td><td>2.6</td><td>3.5</td><td>1</td><td>Iris-versicolor</td></tr>\n",
              "\t<tr><th scope=row>82</th><td>5.5</td><td>2.4</td><td>3.7</td><td>1</td><td>Iris-versicolor</td></tr>\n",
              "\t<tr><th scope=row>94</th><td>5.0</td><td>2.3</td><td>3.3</td><td>1</td><td>Iris-versicolor</td></tr>\n",
              "</tbody>\n",
              "</table>\n"
            ],
            "text/markdown": "\nA data.frame: 7 × 5\n\n| <!--/--> | sepal_length &lt;dbl&gt; | sepal_width &lt;dbl&gt; | petal_length &lt;dbl&gt; | petal_width &lt;dbl&gt; | species &lt;chr&gt; |\n|---|---|---|---|---|---|\n| 58 | 4.9 | 2.4 | 3.3 | 1 | Iris-versicolor |\n| 61 | 5.0 | 2.0 | 3.5 | 1 | Iris-versicolor |\n| 63 | 6.0 | 2.2 | 4.0 | 1 | Iris-versicolor |\n| 68 | 5.8 | 2.7 | 4.1 | 1 | Iris-versicolor |\n| 80 | 5.7 | 2.6 | 3.5 | 1 | Iris-versicolor |\n| 82 | 5.5 | 2.4 | 3.7 | 1 | Iris-versicolor |\n| 94 | 5.0 | 2.3 | 3.3 | 1 | Iris-versicolor |\n\n",
            "text/latex": "A data.frame: 7 × 5\n\\begin{tabular}{r|lllll}\n  & sepal\\_length & sepal\\_width & petal\\_length & petal\\_width & species\\\\\n  & <dbl> & <dbl> & <dbl> & <dbl> & <chr>\\\\\n\\hline\n\t58 & 4.9 & 2.4 & 3.3 & 1 & Iris-versicolor\\\\\n\t61 & 5.0 & 2.0 & 3.5 & 1 & Iris-versicolor\\\\\n\t63 & 6.0 & 2.2 & 4.0 & 1 & Iris-versicolor\\\\\n\t68 & 5.8 & 2.7 & 4.1 & 1 & Iris-versicolor\\\\\n\t80 & 5.7 & 2.6 & 3.5 & 1 & Iris-versicolor\\\\\n\t82 & 5.5 & 2.4 & 3.7 & 1 & Iris-versicolor\\\\\n\t94 & 5.0 & 2.3 & 3.3 & 1 & Iris-versicolor\\\\\n\\end{tabular}\n",
            "text/plain": [
              "   sepal_length sepal_width petal_length petal_width species        \n",
              "58 4.9          2.4         3.3          1           Iris-versicolor\n",
              "61 5.0          2.0         3.5          1           Iris-versicolor\n",
              "63 6.0          2.2         4.0          1           Iris-versicolor\n",
              "68 5.8          2.7         4.1          1           Iris-versicolor\n",
              "80 5.7          2.6         3.5          1           Iris-versicolor\n",
              "82 5.5          2.4         3.7          1           Iris-versicolor\n",
              "94 5.0          2.3         3.3          1           Iris-versicolor"
            ]
          },
          "metadata": {}
        }
      ]
    },
    {
      "cell_type": "code",
      "source": [
        "aggregate(.~species,data=iris_data,min)"
      ],
      "metadata": {
        "colab": {
          "base_uri": "https://localhost:8080/",
          "height": 192
        },
        "id": "ili9ekx71Omm",
        "outputId": "b93fc49d-b0bc-473e-d922-0cb212f9c2bf"
      },
      "execution_count": 11,
      "outputs": [
        {
          "output_type": "display_data",
          "data": {
            "text/html": [
              "<table class=\"dataframe\">\n",
              "<caption>A data.frame: 3 × 5</caption>\n",
              "<thead>\n",
              "\t<tr><th scope=col>species</th><th scope=col>sepal_length</th><th scope=col>sepal_width</th><th scope=col>petal_length</th><th scope=col>petal_width</th></tr>\n",
              "\t<tr><th scope=col>&lt;chr&gt;</th><th scope=col>&lt;dbl&gt;</th><th scope=col>&lt;dbl&gt;</th><th scope=col>&lt;dbl&gt;</th><th scope=col>&lt;dbl&gt;</th></tr>\n",
              "</thead>\n",
              "<tbody>\n",
              "\t<tr><td>Iris-setosa    </td><td>4.3</td><td>2.3</td><td>1.0</td><td>0.1</td></tr>\n",
              "\t<tr><td>Iris-versicolor</td><td>4.9</td><td>2.0</td><td>3.0</td><td>1.0</td></tr>\n",
              "\t<tr><td>Iris-virginica </td><td>4.9</td><td>2.2</td><td>4.5</td><td>1.4</td></tr>\n",
              "</tbody>\n",
              "</table>\n"
            ],
            "text/markdown": "\nA data.frame: 3 × 5\n\n| species &lt;chr&gt; | sepal_length &lt;dbl&gt; | sepal_width &lt;dbl&gt; | petal_length &lt;dbl&gt; | petal_width &lt;dbl&gt; |\n|---|---|---|---|---|\n| Iris-setosa     | 4.3 | 2.3 | 1.0 | 0.1 |\n| Iris-versicolor | 4.9 | 2.0 | 3.0 | 1.0 |\n| Iris-virginica  | 4.9 | 2.2 | 4.5 | 1.4 |\n\n",
            "text/latex": "A data.frame: 3 × 5\n\\begin{tabular}{lllll}\n species & sepal\\_length & sepal\\_width & petal\\_length & petal\\_width\\\\\n <chr> & <dbl> & <dbl> & <dbl> & <dbl>\\\\\n\\hline\n\t Iris-setosa     & 4.3 & 2.3 & 1.0 & 0.1\\\\\n\t Iris-versicolor & 4.9 & 2.0 & 3.0 & 1.0\\\\\n\t Iris-virginica  & 4.9 & 2.2 & 4.5 & 1.4\\\\\n\\end{tabular}\n",
            "text/plain": [
              "  species         sepal_length sepal_width petal_length petal_width\n",
              "1 Iris-setosa     4.3          2.3         1.0          0.1        \n",
              "2 Iris-versicolor 4.9          2.0         3.0          1.0        \n",
              "3 Iris-virginica  4.9          2.2         4.5          1.4        "
            ]
          },
          "metadata": {}
        }
      ]
    },
    {
      "cell_type": "code",
      "source": [
        "sl = iris_data$sepal_length"
      ],
      "metadata": {
        "id": "ZIBv6KSq1tvR"
      },
      "execution_count": 12,
      "outputs": []
    },
    {
      "cell_type": "code",
      "source": [
        "mean(sl)"
      ],
      "metadata": {
        "colab": {
          "base_uri": "https://localhost:8080/",
          "height": 34
        },
        "id": "1405jWJs4CpJ",
        "outputId": "d62b8367-f452-4182-ab34-0fffaa696627"
      },
      "execution_count": 13,
      "outputs": [
        {
          "output_type": "display_data",
          "data": {
            "text/html": [
              "5.84333333333333"
            ],
            "text/markdown": "5.84333333333333",
            "text/latex": "5.84333333333333",
            "text/plain": [
              "[1] 5.843333"
            ]
          },
          "metadata": {}
        }
      ]
    },
    {
      "cell_type": "code",
      "source": [
        "median(sl)"
      ],
      "metadata": {
        "colab": {
          "base_uri": "https://localhost:8080/",
          "height": 34
        },
        "id": "tcW0P7cL4PC2",
        "outputId": "1e0315d8-8b24-499f-ec5c-c13590952ecd"
      },
      "execution_count": 14,
      "outputs": [
        {
          "output_type": "display_data",
          "data": {
            "text/html": [
              "5.8"
            ],
            "text/markdown": "5.8",
            "text/latex": "5.8",
            "text/plain": [
              "[1] 5.8"
            ]
          },
          "metadata": {}
        }
      ]
    },
    {
      "cell_type": "code",
      "source": [
        "sd(sl)"
      ],
      "metadata": {
        "colab": {
          "base_uri": "https://localhost:8080/",
          "height": 34
        },
        "id": "fl1vPJUK4O3Y",
        "outputId": "bcc6c168-112d-419e-9177-14c3e512dbc5"
      },
      "execution_count": 15,
      "outputs": [
        {
          "output_type": "display_data",
          "data": {
            "text/html": [
              "0.828066127977863"
            ],
            "text/markdown": "0.828066127977863",
            "text/latex": "0.828066127977863",
            "text/plain": [
              "[1] 0.8280661"
            ]
          },
          "metadata": {}
        }
      ]
    },
    {
      "cell_type": "markdown",
      "source": [
        "Visualization of iris dataset"
      ],
      "metadata": {
        "id": "V1nL8-W63b5e"
      }
    },
    {
      "cell_type": "code",
      "source": [
        "# histogram\n",
        "hist(sl)"
      ],
      "metadata": {
        "colab": {
          "base_uri": "https://localhost:8080/",
          "height": 437
        },
        "id": "IsH2gAQC4aCY",
        "outputId": "35dbc3ae-586b-48b2-d2f0-4a85f8bc007d"
      },
      "execution_count": 16,
      "outputs": [
        {
          "output_type": "display_data",
          "data": {
            "text/plain": [
              "Plot with title “Histogram of sl”"
            ],
            "image/png": "[encoded data removed]"
          },
          "metadata": {
            "image/png": {
              "width": 420,
              "height": 420
            }
          }
        }
      ]
    },
    {
      "cell_type": "code",
      "source": [
        "t = table(iris_data$species)\n",
        "t"
      ],
      "metadata": {
        "colab": {
          "base_uri": "https://localhost:8080/",
          "height": 69
        },
        "id": "23T2atKn4b9X",
        "outputId": "6de425b5-2f9f-4af7-b681-142b9dd19bc0"
      },
      "execution_count": 17,
      "outputs": [
        {
          "output_type": "display_data",
          "data": {
            "text/plain": [
              "\n",
              "    Iris-setosa Iris-versicolor  Iris-virginica \n",
              "             50              50              50 "
            ]
          },
          "metadata": {}
        }
      ]
    },
    {
      "cell_type": "code",
      "source": [
        "# barplot\n",
        "barplot(t)"
      ],
      "metadata": {
        "colab": {
          "base_uri": "https://localhost:8080/",
          "height": 437
        },
        "id": "h1pijcde4iI5",
        "outputId": "ce75ce98-bede-462a-c97b-b6d7a8aa3518"
      },
      "execution_count": 18,
      "outputs": [
        {
          "output_type": "display_data",
          "data": {
            "text/plain": [
              "plot without title"
            ],
            "image/png": "[encoded data removed]"
          },
          "metadata": {
            "image/png": {
              "width": 420,
              "height": 420
            }
          }
        }
      ]
    },
    {
      "cell_type": "code",
      "source": [
        "# regression plot\n",
        "plot(sepal_length~sepal_width,data = iris_data,col='red',pch= 25,cex=1.7)"
      ],
      "metadata": {
        "colab": {
          "base_uri": "https://localhost:8080/",
          "height": 437
        },
        "id": "MEsif_sP40S5",
        "outputId": "f572b1e7-b75f-4541-bf3c-6e9a79bf7b2b"
      },
      "execution_count": 19,
      "outputs": [
        {
          "output_type": "display_data",
          "data": {
            "text/plain": [
              "plot without title"
            ],
            "image/png": "[encoded data removed]"
          },
          "metadata": {
            "image/png": {
              "width": 420,
              "height": 420
            }
          }
        }
      ]
    },
    {
      "cell_type": "code",
      "source": [
        "# box plot\n",
        "par(mfrow=c(1,4))\n",
        "for(i in 1:4)\n",
        "{\n",
        "  boxplot(iris_data[,i],main=names(iris_data)[i])\n",
        "}"
      ],
      "metadata": {
        "colab": {
          "base_uri": "https://localhost:8080/",
          "height": 437
        },
        "id": "xNFAjivF5f8_",
        "outputId": "04b35820-5fd7-4791-d7e9-fe0cd5653f1c"
      },
      "execution_count": 20,
      "outputs": [
        {
          "output_type": "display_data",
          "data": {
            "text/plain": [
              "Plot with title “petal_width”"
            ],
            "image/png": "[encoded data removed]"
          },
          "metadata": {
            "image/png": {
              "width": 420,
              "height": 420
            }
          }
        }
      ]
    },
    {
      "cell_type": "markdown",
      "source": [
        "Building Model"
      ],
      "metadata": {
        "id": "0rKn_Umd8b5S"
      }
    },
    {
      "cell_type": "code",
      "source": [
        "# Spliting the dataset into training and testing sets\n",
        "set.seed(123)\n",
        "train_index <- sample(1:nrow(iris_data), 0.8 * nrow(iris_data))\n",
        "train_data <- iris_data[train_index, ]\n",
        "test_data <- iris_data[-train_index, ]"
      ],
      "metadata": {
        "id": "NmfGWtxf-a2f"
      },
      "execution_count": 21,
      "outputs": []
    },
    {
      "cell_type": "code",
      "source": [
        "# Standardize the features (mean=0 and variance=1)\n",
        "normalize <- function(x)\n",
        "{\n",
        "  return ((x - mean(x)) / sd(x))\n",
        "}\n",
        "train_data[, 1:4] <- apply(train_data[, 1:4], 2, normalize)\n",
        "test_data[, 1:4] <- apply(test_data[, 1:4], 2, normalize)"
      ],
      "metadata": {
        "id": "0ZDDErYYJC_U"
      },
      "execution_count": 22,
      "outputs": []
    },
    {
      "cell_type": "code",
      "source": [
        "# Training a k-Nearest Neighbors classifier\n",
        "knn_model <- knn(train = train_data[, 1:4], test = test_data[, 1:4], cl = train_data$species, k = 5)"
      ],
      "metadata": {
        "id": "aRBEFi-MJr0I"
      },
      "execution_count": 23,
      "outputs": []
    },
    {
      "cell_type": "markdown",
      "source": [
        "Evaluating the Model"
      ],
      "metadata": {
        "id": "NzMTwOXeLcHe"
      }
    },
    {
      "cell_type": "code",
      "source": [
        "# Printing accuracy\n",
        "accuracy <- sum(knn_model == test_data$species) / nrow(test_data)\n",
        "cat(\"Accuracy:\", accuracy, \"\\n\")"
      ],
      "metadata": {
        "colab": {
          "base_uri": "https://localhost:8080/"
        },
        "id": "OwPB_dSPJ-Rt",
        "outputId": "41c6dd58-a034-4683-df00-a08b8fd36a13"
      },
      "execution_count": 24,
      "outputs": [
        {
          "output_type": "stream",
          "name": "stdout",
          "text": [
            "Accuracy: 0.9 \n"
          ]
        }
      ]
    },
    {
      "cell_type": "code",
      "source": [
        "# Printing confusion matrix\n",
        "confusion_matrix <- table(Actual = test_data$species, Predicted = knn_model)\n",
        "print(confusion_matrix)"
      ],
      "metadata": {
        "colab": {
          "base_uri": "https://localhost:8080/"
        },
        "id": "Em6-OvyEKTao",
        "outputId": "14ac45e8-ae8b-4d36-e990-312a06e96b47"
      },
      "execution_count": 25,
      "outputs": [
        {
          "output_type": "stream",
          "name": "stdout",
          "text": [
            "                 Predicted\n",
            "Actual            Iris-setosa Iris-versicolor Iris-virginica\n",
            "  Iris-setosa              10               0              0\n",
            "  Iris-versicolor           0              12              3\n",
            "  Iris-virginica            0               0              5\n"
          ]
        }
      ]
    },
    {
      "cell_type": "code",
      "source": [
        "# Printing precision\n",
        "precision <- diag(confusion_matrix) / colSums(confusion_matrix)\n",
        "print(\"Precision:\")\n",
        "print(precision)"
      ],
      "metadata": {
        "colab": {
          "base_uri": "https://localhost:8080/"
        },
        "id": "Pi5kqH5vKdLU",
        "outputId": "5a0d7de7-8989-4e0f-a8dd-9460c3be26a4"
      },
      "execution_count": 26,
      "outputs": [
        {
          "output_type": "stream",
          "name": "stdout",
          "text": [
            "[1] \"Precision:\"\n",
            "    Iris-setosa Iris-versicolor  Iris-virginica \n",
            "          1.000           1.000           0.625 \n"
          ]
        }
      ]
    },
    {
      "cell_type": "code",
      "source": [
        "# Printing recall\n",
        "recall <- diag(confusion_matrix) / rowSums(confusion_matrix)\n",
        "print(\"Recall:\")\n",
        "print(recall)"
      ],
      "metadata": {
        "colab": {
          "base_uri": "https://localhost:8080/"
        },
        "id": "IFaQttEMLNwc",
        "outputId": "71845366-383f-4ef4-dac2-19c0b40a1846"
      },
      "execution_count": 27,
      "outputs": [
        {
          "output_type": "stream",
          "name": "stdout",
          "text": [
            "[1] \"Recall:\"\n",
            "    Iris-setosa Iris-versicolor  Iris-virginica \n",
            "            1.0             0.8             1.0 \n"
          ]
        }
      ]
    },
    {
      "cell_type": "code",
      "source": [],
      "metadata": {
        "id": "vtiG0l8lL2e3"
      },
      "execution_count": 28,
      "outputs": []
    }
  ]
}